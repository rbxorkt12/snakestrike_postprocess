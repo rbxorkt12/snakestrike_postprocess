{
 "cells": [
  {
   "cell_type": "code",
   "execution_count": 8,
   "outputs": [],
   "source": [
    "# no line\n",
    "from reader import csv2pointdic\n",
    "from util import get_framenum\n",
    "from plot import plot_save\n",
    "from video import images2video, horizontal_concat_videos, vertical_concat_videos\n",
    "\n",
    "# whole_points = csv2pointdic('finger/realfinger.csv')\n",
    "# frame_num = get_framenum(whole_points)\n",
    "# plot_save(frame_num, whole_points, 'finger/proj_x', proj='X')\n",
    "# images2video('finger/proj_x', 'finger/xproj_visualize.avi', fps=30)\n",
    "# print('x visualize end')\n",
    "# plot_save(frame_num, whole_points, 'finger/proj_y', proj='Y')\n",
    "# images2video('finger/proj_y', 'finger/yproj_visualize.avi', fps=30)\n",
    "# print('y visualize end')\n",
    "# plot_save(frame_num, whole_points, 'finger/proj_z', proj='Z')\n",
    "# images2video('finger/proj_z', 'finger/zproj_visualize.avi', fps=30)\n",
    "# print('z visualize end')\n",
    "# plot_save(frame_num, whole_points, 'finger/3d')\n",
    "# images2video('finger/3d', 'finger/3d_visualize.avi', 30)\n",
    "# print('3d visualize end')\n",
    "horizontal_concat_videos(['finger/real_finger1.avi', 'finger/real_finger2.avi'], 'finger/camera.avi')\n",
    "horizontal_concat_videos(['finger/xproj_visualize.avi', 'finger/yproj_visualize.avi', 'finger/zproj_visualize.avi',\n",
    "                          'finger/3d_visualize.avi'], 'finger/visualize.avi')\n",
    "vertical_concat_videos(['finger/camera.avi', 'finger/visualize.avi'], 'finger/output.avi')"
   ],
   "metadata": {
    "collapsed": false,
    "pycharm": {
     "name": "#%%\n"
    }
   }
  },
  {
   "cell_type": "code",
   "execution_count": 6,
   "outputs": [
    {
     "name": "stdout",
     "output_type": "stream",
     "text": [
      "x visualize end\n",
      "y visualize end\n",
      "z visualize end\n",
      "3d visualize end\n"
     ]
    }
   ],
   "source": [
    "#with line\n",
    "from reader import csv2pointdic\n",
    "from util import get_framenum\n",
    "from plot import plot_save\n",
    "from video import images2video, horizontal_concat_videos, vertical_concat_videos\n",
    "\n",
    "whole_points = csv2pointdic('finger/realfinger.csv',line_opt=True,linesetting_path='linesetting.txt')\n",
    "frame_num = get_framenum(whole_points)\n",
    "plot_save(frame_num, whole_points, 'finger/proj_x_l', proj='X',line_opt=True)\n",
    "images2video('finger/proj_x_l', 'finger/xproj_visualize_l.avi', fps=30)\n",
    "print('x visualize end')\n",
    "plot_save(frame_num, whole_points, 'finger/proj_y_l', proj='Y',line_opt=True)\n",
    "images2video('finger/proj_y_l', 'finger/yproj_visualize_l.avi', fps=30)\n",
    "print('y visualize end')\n",
    "plot_save(frame_num, whole_points, 'finger/proj_z_l', proj='Z',line_opt=True)\n",
    "images2video('finger/proj_z_l', 'finger/zproj_visualize_l.avi', fps=30)\n",
    "print('z visualize end')\n",
    "plot_save(frame_num, whole_points, 'finger/3d_l',line_opt=True)\n",
    "images2video('finger/3d_l', 'finger/3d_visualize_l.avi', 30)\n",
    "print('3d visualize end')\n",
    "horizontal_concat_videos(['finger/real_finger1.avi', 'finger/real_finger2.avi'], 'finger/camera.avi')\n",
    "horizontal_concat_videos(['finger/xproj_visualize_l.avi', 'finger/yproj_visualize_l.avi', 'finger/zporj_visualize_l.avi',\n",
    "                          'finger/3d_visualize_l.avi'], 'finger/visualize_l.avi')\n",
    "vertical_concat_videos(['finger/camera.avi', 'finger/visualize_l.avi'], 'finger/output_l.avi')\n"
   ],
   "metadata": {
    "collapsed": false,
    "pycharm": {
     "name": "#%%\n"
    }
   }
  },
  {
   "cell_type": "code",
   "execution_count": 3,
   "outputs": [],
   "source": [
    "from reader import csv2pointdic,line_setting_read\n",
    "from util import get_framenum,get_pointnum\n",
    "\n",
    "whole_points = csv2pointdic('finger/realfinger.csv',True,linesetting_path='linesetting.txt')\n",
    "frame_num = get_framenum(whole_points)\n",
    "point_num = get_pointnum(whole_points)\n",
    "setting = line_setting_read('linesetting.txt')\n",
    "\n"
   ],
   "metadata": {
    "collapsed": false,
    "pycharm": {
     "name": "#%%\n"
    }
   }
  },
  {
   "cell_type": "code",
   "execution_count": 4,
   "outputs": [],
   "source": [],
   "metadata": {
    "collapsed": false,
    "pycharm": {
     "name": "#%%\n"
    }
   }
  },
  {
   "cell_type": "code",
   "execution_count": null,
   "outputs": [],
   "source": [],
   "metadata": {
    "collapsed": false,
    "pycharm": {
     "name": "#%%\n"
    }
   }
  }
 ],
 "metadata": {
  "kernelspec": {
   "display_name": "Python 3",
   "language": "python",
   "name": "python3"
  },
  "language_info": {
   "codemirror_mode": {
    "name": "ipython",
    "version": 2
   },
   "file_extension": ".py",
   "mimetype": "text/x-python",
   "name": "python",
   "nbconvert_exporter": "python",
   "pygments_lexer": "ipython2",
   "version": "2.7.6"
  }
 },
 "nbformat": 4,
 "nbformat_minor": 0
}