{
 "cells": [
  {
   "cell_type": "code",
   "execution_count": 18,
   "metadata": {},
   "outputs": [],
   "source": [
    "import pandas as pd\n",
    "import numpy as np \n",
    "import matplotlib.pyplot as plt\n",
    "import csv\n",
    "import glob\n",
    "import cv2\n",
    "import os\n",
    "\n",
    "from sklearn.decomposition import PCA\n",
    "from numpy import linalg as LA\n",
    "from os.path import join"
   ]
  },
  {
   "cell_type": "code",
   "execution_count": 44,
   "metadata": {},
   "outputs": [],
   "source": [
    "class point: \n",
    "    def __init__(self,x,y,z):\n",
    "        self.x = x\n",
    "        self.y = y\n",
    "        self.z = z\n",
    "    def position(self):\n",
    "        return [self.x, self.y, self.z]\n",
    "    def distance(self,other):\n",
    "        x_distance = self.x - other.x\n",
    "        y_distance = self.y - other.y\n",
    "        z_distance = self.z - other.z\n",
    "        return LA.norm([x_distance,y_distance,z_distance])\n",
    "    def projZ(self):\n",
    "        return self.x, self.y\n",
    "    def projX(self):\n",
    "        return self.y, self.z\n",
    "    def projY(self):\n",
    "        return self.x, self.z\n",
    "    def proj_plane(self, vector):\n",
    "        cord1 = np.dot([self.x,self.y,self.z],vector[:,0])\n",
    "        cord2 = np.dot([self.x,self.y,self.z],vector[:,1])\n",
    "        return cord1, cord2\n",
    "\n",
    "class line: \n",
    "    def __init__(self,point_1,point_2):\n",
    "        self.point_1 = point_1\n",
    "        self.point_2 = point_2\n",
    "    def distance(self):\n",
    "        x_distance = self.point_1.x - self.point_2.x\n",
    "        y_distance = self.point_1.y - self.point_2.y\n",
    "        z_distance = self.point_1.z - self.point_2.z\n",
    "        return LA.norm([x_distance,y_distance,z_distance])"
   ]
  },
  {
   "cell_type": "code",
   "execution_count": 45,
   "metadata": {
    "tags": []
   },
   "outputs": [],
   "source": [
    "def csv2pointdic(path):\n",
    "    data = []\n",
    "    with open(path, newline='') as csvfile:\n",
    "        spamreader = csv.reader(csvfile, delimiter=' ', quotechar='|')\n",
    "        for i, row in enumerate(spamreader):\n",
    "            if i>4 :\n",
    "                data.append(row[0].split(','))\n",
    "    for row in data:\n",
    "        del row[0]\n",
    "        del row[-1]\n",
    "    whole_points = {}\n",
    "    for time,row in enumerate(data): \n",
    "        time_points = {}\n",
    "        for point_num,position in enumerate(row):\n",
    "            try:\n",
    "                x,y,z = position.split('|')\n",
    "                x,y,z = float(x),float(y),float(z)\n",
    "                time_points[point_num] = point(x,y,z)\n",
    "            except Exception as e :\n",
    "                print(position)\n",
    "                time_points = None\n",
    "                break\n",
    "        whole_points[time] = time_points\n",
    "    return whole_points\n"
   ]
  },
  {
   "cell_type": "code",
   "execution_count": 46,
   "metadata": {},
   "outputs": [],
   "source": [
    "def get_pointnum(whole_points):\n",
    "    return len(whole_points[0].keys())"
   ]
  },
  {
   "cell_type": "code",
   "execution_count": 47,
   "metadata": {},
   "outputs": [],
   "source": [
    "def get_framenum(whole_points):\n",
    "    return len(whole_points.keys())"
   ]
  },
  {
   "cell_type": "code",
   "execution_count": 48,
   "metadata": {},
   "outputs": [],
   "source": [
    "def scale_checker(whole_points):\n",
    "    max_x,max_y,max_z = -np.inf,-np.inf,-np.inf\n",
    "    min_x,min_y,min_z = np.inf,np.inf,np.inf\n",
    "    for _,time_points in whole_points.items():\n",
    "        if time_points is None :\n",
    "            continue\n",
    "        for _,point in time_points.items():\n",
    "            if point.x < min_x:\n",
    "                min_x = point.x\n",
    "            elif point.x > max_x:\n",
    "                max_x = point.x\n",
    "            if point.y < min_y:\n",
    "                min_y = point.y\n",
    "            elif point.y > max_y:\n",
    "                max_y = point.y\n",
    "            if point.z < min_z:\n",
    "                min_z = point.z\n",
    "            elif point.z > max_z:\n",
    "                max_z = point.z\n",
    "    return [[min_x-200,max_x+200],[min_y-200,max_y+200],[min_z-200,max_z+200]]"
   ]
  },
  {
   "cell_type": "code",
   "execution_count": 48,
   "outputs": [],
   "source": [],
   "metadata": {
    "collapsed": false,
    "pycharm": {
     "name": "#%%\n"
    }
   }
  },
  {
   "cell_type": "code",
   "execution_count": 49,
   "metadata": {},
   "outputs": [],
   "source": [
    "def plot3d_frame(whole_points,frame,scale,path):\n",
    "    flg = plt.figure()\n",
    "    ax = flg.gca(projection='3d')\n",
    "    time_points = whole_points[frame]\n",
    "    plt.suptitle(f'3d position')\n",
    "    if time_points is None:\n",
    "        plt.savefig(path)\n",
    "    else :\n",
    "        X,Y,Z = [],[],[]\n",
    "        for _,point in time_points.items():\n",
    "            X.append(point.x)\n",
    "            Y.append(point.y)\n",
    "            Z.append(point.z)\n",
    "        ax.scatter(X,Y,Z,c=list(range(0,get_pointnum(whole_points))))\n",
    "        ax.set_xlabel('x')\n",
    "        ax.set_ylabel('y')\n",
    "        ax.set_zlabel('z')\n",
    "        ax.set_xlim3d(*scale[0])\n",
    "        ax.set_ylim3d(*scale[1])\n",
    "        ax.set_zlim3d(*scale[2])\n",
    "        plt.savefig(path)\n",
    "    plt.close()\n"
   ]
  },
  {
   "cell_type": "code",
   "execution_count": 50,
   "metadata": {},
   "outputs": [],
   "source": [
    "def plot2d_frame(whole_points,frame,scale,path,plane):\n",
    "    flg = plt.figure()\n",
    "    ax = flg.gca()\n",
    "    time_points = whole_points[frame]\n",
    "    plt.suptitle(f'2d position in {plane} plane')\n",
    "    if time_points is None:\n",
    "        plt.savefig(path)\n",
    "    else :\n",
    "        cord1,cord2 = [],[]\n",
    "        for _,point in time_points.items():\n",
    "            if plane=='X':\n",
    "                cord1_num, cord2_num = point.projX()\n",
    "            elif plane=='Y':\n",
    "                cord1_num, cord2_num = point.projY()\n",
    "            elif plane=='Z':\n",
    "                cord1_num, cord2_num = point.projZ()\n",
    "            else :\n",
    "                cord1_num, cord2_num = point.proj_plane(plane)\n",
    "            cord1.append(cord1_num)\n",
    "            cord2.append(cord2_num)\n",
    "        ax.scatter(cord1,cord2,c=list(range(0,get_pointnum(whole_points))))\n",
    "        ax.set_xlabel('cord1')\n",
    "        ax.set_ylabel('cord2')\n",
    "        if plane=='X':\n",
    "            cord1_index, cord2_index = 1,2\n",
    "            ax.set_xlim(*scale[cord1_index])\n",
    "            ax.set_ylim(*scale[cord2_index])\n",
    "        elif plane=='Y':\n",
    "            cord1_index, cord2_index = 0,2\n",
    "            ax.set_xlim(*scale[cord1_index])\n",
    "            ax.set_ylim(*scale[cord2_index])\n",
    "        elif plane=='Z':\n",
    "            cord1_index, cord2_index = 0,1\n",
    "            ax.set_xlim(*scale[cord1_index])\n",
    "            ax.set_ylim(*scale[cord2_index])\n",
    "        else :\n",
    "            ax.set_xlim(scale[0])\n",
    "            ax.set_ylim(scale[1])\n",
    "        plt.savefig(path)\n",
    "    plt.close()"
   ]
  },
  {
   "cell_type": "code",
   "execution_count": 51,
   "metadata": {},
   "outputs": [],
   "source": [
    "def plot_save(frame_num,whole_points,path,proj=None):\n",
    "    plt.ioff()\n",
    "    os.makedirs(path, exist_ok=True)\n",
    "    scale=scale_checker(whole_points)\n",
    "    for i in range(frame_num):\n",
    "        if proj is None :\n",
    "            plot3d_frame(whole_points,frame=i,scale=scale,path=join(path,f'{i}.jpg'))\n",
    "        elif proj in ['X','Y','Z'] :\n",
    "            plot2d_frame(whole_points,frame=i,scale=scale,path=join(path,f'{i}.jpg'),plane=proj)\n",
    "        else : #project to plane\n",
    "            scale_1pc = [np.dot([scale[0][0], scale[1][0], scale[2][0]],proj[:,0]),np.dot([scale[0][1], scale[1][1], scale[2][1]],proj[:,0])]\n",
    "            scale_2pc = [np.dot([scale[0][0], scale[1][0], scale[2][0]],proj[:,1]),np.dot([scale[0][1], scale[1][1], scale[2][1]],proj[:,1])]\n",
    "            scale = (scale_1pc,scale_2pc)\n",
    "            plot2d_frame(whole_points,frame=i,scale=scale,path=join(path,f'{i}.jpg'),plane=proj)\n"
   ]
  },
  {
   "cell_type": "code",
   "execution_count": 52,
   "metadata": {},
   "outputs": [],
   "source": [
    "def images2video(image_path,video_path,fps):\n",
    "    img_array = []\n",
    "    size = (1,1)\n",
    "    for filename in glob.glob(join(image_path,'*.jpg')):\n",
    "        img = cv2.imread(filename)\n",
    "        height, width, layers = img.shape\n",
    "        size = (width,height)\n",
    "        img_array.append(img)\n",
    "    out = cv2.VideoWriter(video_path,cv2.VideoWriter_fourcc(*'DIVX'), fps, size)\n",
    "    for i in range(len(img_array)):\n",
    "        out.write(img_array[i])\n",
    "    out.release()"
   ]
  },
  {
   "cell_type": "code",
   "execution_count": 53,
   "metadata": {
    "tags": []
   },
   "outputs": [],
   "source": [
    "whole_points=csv2pointdic('example2.csv')\n",
    "frame_num = get_framenum(whole_points)"
   ]
  },
  {
   "cell_type": "code",
   "execution_count": 56,
   "outputs": [
    {
     "name": "stdout",
     "output_type": "stream",
     "text": [
      "[0.53168494 0.40562608]\n"
     ]
    }
   ],
   "source": [
    "def get_pca(whole_points):\n",
    "    x = []\n",
    "    for _,stamp in whole_points.items():\n",
    "        if stamp is None:\n",
    "            continue\n",
    "        for _,point in stamp.items():\n",
    "            x.append(point.position())\n",
    "    pca = PCA(n_components=2)\n",
    "    pca.fit(x)\n",
    "    pc_vector = pca.components_.T\n",
    "    pc_ratio = pca.explained_variance_ratio_\n",
    "    return pc_vector, pc_ratio"
   ],
   "metadata": {
    "collapsed": false,
    "pycharm": {
     "name": "#%%\n"
    }
   }
  },
  {
   "cell_type": "code",
   "execution_count": 30,
   "outputs": [
    {
     "name": "stderr",
     "output_type": "stream",
     "text": [
      "<ipython-input-8-3f2ae3ffd28e>:2: RuntimeWarning: More than 20 figures have been opened. Figures created through the pyplot interface (`matplotlib.pyplot.figure`) are retained until explicitly closed and may consume too much memory. (To control this warning, see the rcParam `figure.max_open_warning`).\n",
      "  flg = plt.figure()\n"
     ]
    }
   ],
   "source": [
    "plot_save(frame_num,whole_points,'ximages',proj='X')\n",
    "images2video('ximages','xproj_visualize.avi',30)\n",
    "plot_save(frame_num,whole_points,'yimages',proj='Y')\n",
    "images2video('yimages','yproj_visualize.avi',30)\n",
    "plot_save(frame_num,whole_points,'zimages',proj='Z')\n",
    "images2video('zimages','zporj_visualize.avi',30)\n",
    "plot_save(frame_num,whole_points,'images')\n",
    "images2video('images','3d_visualize.avi',30)"
   ],
   "metadata": {
    "collapsed": false,
    "pycharm": {
     "name": "#%%\n"
    }
   }
  },
  {
   "cell_type": "code",
   "execution_count": 41,
   "outputs": [],
   "source": [
    "def check_videos_open(video_list):\n",
    "    for cap in video_list:\n",
    "        if not cap.isOpened():\n",
    "            return False\n",
    "    return True"
   ],
   "metadata": {
    "collapsed": false,
    "pycharm": {
     "name": "#%%\n"
    }
   }
  },
  {
   "cell_type": "code",
   "execution_count": 42,
   "outputs": [],
   "source": [
    "def release_videos(video_list):\n",
    "    for cap in video_list:\n",
    "        cap.release()"
   ],
   "metadata": {
    "collapsed": false,
    "pycharm": {
     "name": "#%%\n"
    }
   }
  },
  {
   "cell_type": "code",
   "execution_count": 43,
   "metadata": {},
   "outputs": [],
   "source": [
    "def horizontal_concat_videos(videos,output):\n",
    "    cap_list = []\n",
    "    try :\n",
    "        for video in videos:\n",
    "            cap_list.append(cv2.VideoCapture(video))\n",
    "        frameWidth = int(cap_list[0].get(cv2.CAP_PROP_FRAME_WIDTH))* len(cap_list)\n",
    "        frameHeight = int(cap_list[0].get(cv2.CAP_PROP_FRAME_HEIGHT))\n",
    "        fps = int(cap_list[0].get(cv2.CAP_PROP_FPS))\n",
    "        size = (frameWidth,frameHeight)\n",
    "        out = cv2.VideoWriter(output,fourcc =cv2.VideoWriter_fourcc(*'DIVX'), fps = fps, frameSize =size)\n",
    "        while check_videos_open(cap_list):\n",
    "            both = 0 #initalize\n",
    "            for i,cap in enumerate(cap_list):\n",
    "                ret, frame = cap.read()\n",
    "                if ret is False:\n",
    "                    release_videos([*cap_list,out])\n",
    "                    cv2.waitKey(0)\n",
    "                    cv2.destroyAllWindows()\n",
    "                    return\n",
    "                if i == 0:\n",
    "                    both = frame\n",
    "                else:\n",
    "                    both = np.concatenate((both, frame), axis=1)\n",
    "            out.write(both)\n",
    "            if cv2.waitKey(1) & 0xFF == ord('q'):\n",
    "                break\n",
    "        release_videos([*cap_list,out])\n",
    "        cv2.waitKey(0)\n",
    "        cv2.destroyAllWindows()\n",
    "    except:\n",
    "        release_videos([*cap_list])\n",
    "        cv2.waitKey(0)\n",
    "        cv2.destroyAllWindows()"
   ]
  },
  {
   "cell_type": "code",
   "execution_count": 44,
   "outputs": [],
   "source": [
    "def vertical_concat_videos(videos,output):\n",
    "    cap_list = []\n",
    "    try :\n",
    "        for video in videos:\n",
    "            cap_list.append(cv2.VideoCapture(video))\n",
    "        frameWidth = int(np.max(list(map(lambda x : x.get(cv2.CAP_PROP_FRAME_WIDTH),cap_list))))\n",
    "        frameHeight = int(np.sum(list(map(lambda x : x.get(cv2.CAP_PROP_FRAME_HEIGHT),cap_list))))\n",
    "        fps = int(cap_list[0].get(cv2.CAP_PROP_FPS))\n",
    "        size = (frameWidth,frameHeight)\n",
    "        out = cv2.VideoWriter(output,fourcc =cv2.VideoWriter_fourcc(*'DIVX'), fps = fps, frameSize =size)\n",
    "        while check_videos_open(cap_list):\n",
    "            both = 0 #initalize\n",
    "            for i,cap in enumerate(cap_list):\n",
    "                ret, frame = cap.read()\n",
    "                if ret is False:\n",
    "                    release_videos([*cap_list,out])\n",
    "                    cv2.waitKey(0)\n",
    "                    cv2.destroyAllWindows()\n",
    "                    return\n",
    "                if i == 0:\n",
    "                    both = frame\n",
    "                else:\n",
    "                    h,w,c= both.shape\n",
    "                    h1,w1,c1 = frame.shape\n",
    "                    if w < w1: # resize right img to left size\n",
    "                        both = cv2.resize(both,(w1,h))\n",
    "                    elif w > w1:\n",
    "                        frame = cv2.resize(frame,(w,h))\n",
    "                    both = np.concatenate((both, frame), axis=0)\n",
    "            out.write(both)\n",
    "            if cv2.waitKey(1) & 0xFF == ord('q'):\n",
    "                break\n",
    "        release_videos([*cap_list,out])\n",
    "        cv2.waitKey(0)\n",
    "        cv2.destroyAllWindows()\n",
    "    except:\n",
    "        release_videos([*cap_list])\n",
    "        cv2.waitKey(0)\n",
    "        cv2.destroyAllWindows()"
   ],
   "metadata": {
    "collapsed": false,
    "pycharm": {
     "name": "#%%\n"
    }
   }
  },
  {
   "cell_type": "code",
   "execution_count": 45,
   "outputs": [],
   "source": [
    "horizontal_concat_videos(['example_cam1.avi','example_cam2.avi'],'camera.avi')\n",
    "horizontal_concat_videos(['xproj_visualize.avi','yproj_visualize.avi','zporj_visualize.avi','3d_visualize.avi'],'visualize.avi')\n",
    "vertical_concat_videos(['camera.avi','visualize.avi'],'output.avi')"
   ],
   "metadata": {
    "collapsed": false,
    "pycharm": {
     "name": "#%%\n"
    }
   }
  },
  {
   "cell_type": "code",
   "execution_count": null,
   "outputs": [],
   "source": [],
   "metadata": {
    "collapsed": false,
    "pycharm": {
     "name": "#%%\n"
    }
   }
  }
 ],
 "metadata": {
  "kernelspec": {
   "name": "base",
   "language": "python",
   "display_name": "base"
  },
  "language_info": {
   "codemirror_mode": {
    "name": "ipython",
    "version": 3
   },
   "file_extension": ".py",
   "mimetype": "text/x-python",
   "name": "python",
   "nbconvert_exporter": "python",
   "pygments_lexer": "ipython3",
   "version": "3.8.3"
  }
 },
 "nbformat": 4,
 "nbformat_minor": 4
}